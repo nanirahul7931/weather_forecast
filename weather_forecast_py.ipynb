{
  "nbformat": 4,
  "nbformat_minor": 0,
  "metadata": {
    "colab": {
      "provenance": [],
      "authorship_tag": "ABX9TyPuEX0M028NEG7I4yYO7k5d",
      "include_colab_link": true
    },
    "kernelspec": {
      "name": "python3",
      "display_name": "Python 3"
    },
    "language_info": {
      "name": "python"
    }
  },
  "cells": [
    {
      "cell_type": "markdown",
      "metadata": {
        "id": "view-in-github",
        "colab_type": "text"
      },
      "source": [
        "<a href=\"https://colab.research.google.com/github/nanirahul7931/weather_forecast/blob/main/weather_forecast_py.ipynb\" target=\"_parent\"><img src=\"https://colab.research.google.com/assets/colab-badge.svg\" alt=\"Open In Colab\"/></a>"
      ]
    },
    {
      "cell_type": "code",
      "execution_count": 2,
      "metadata": {
        "colab": {
          "base_uri": "https://localhost:8080/"
        },
        "id": "Ezb_gR2D_Pyu",
        "outputId": "206328f9-b27d-4fd0-ed2b-93ee4ee81d87"
      },
      "outputs": [
        {
          "output_type": "stream",
          "name": "stdout",
          "text": [
            "Enter city name: Mumbai\n",
            "\n",
            "📍 Weather in Mumbai, IN:\n",
            "🌡️ Temperature: 31.99°C\n",
            "🌤️ Condition: Haze\n",
            "💧 Humidity: 74%\n",
            "🌬️ Wind Speed: 5.14 m/s\n"
          ]
        }
      ],
      "source": [
        "import requests\n",
        "\n",
        "def get_weather(city_name, api_key):\n",
        "    base_url = \"http://api.openweathermap.org/data/2.5/weather\"\n",
        "    params = {\n",
        "        'q': city_name,\n",
        "        'appid': api_key,\n",
        "        'units': 'metric'\n",
        "    }\n",
        "\n",
        "    response = requests.get(base_url, params=params)\n",
        "    data = response.json()\n",
        "\n",
        "    if response.status_code == 200:\n",
        "        print(f\"\\n📍 Weather in {data['name']}, {data['sys']['country']}:\")\n",
        "        print(f\"🌡️ Temperature: {data['main']['temp']}°C\")\n",
        "        print(f\"🌤️ Condition: {data['weather'][0]['description'].capitalize()}\")\n",
        "        print(f\"💧 Humidity: {data['main']['humidity']}%\")\n",
        "        print(f\"🌬️ Wind Speed: {data['wind']['speed']} m/s\")\n",
        "    else:\n",
        "        print(f\"❌ Error: {data.get('message', 'Unable to fetch weather')}\")\n",
        "\n",
        "if __name__ == \"__main__\":\n",
        "    API_KEY = \"2b3bd6842fd63dd698bae486984d002f\"\n",
        "    city = input(\"Enter city name: \")\n",
        "    get_weather(city, API_KEY)"
      ]
    }
  ]
}