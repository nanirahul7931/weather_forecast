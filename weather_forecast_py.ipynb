{
  "nbformat": 4,
  "nbformat_minor": 0,
  "metadata": {
    "colab": {
      "provenance": [],
      "authorship_tag": "ABX9TyNXdSo14aHShlaRT9B4ugHv",
      "include_colab_link": true
    },
    "kernelspec": {
      "name": "python3",
      "display_name": "Python 3"
    },
    "language_info": {
      "name": "python"
    }
  },
  "cells": [
    {
      "cell_type": "markdown",
      "metadata": {
        "id": "view-in-github",
        "colab_type": "text"
      },
      "source": [
        "<a href=\"https://colab.research.google.com/github/nanirahul7931/weather_forecast/blob/main/weather_forecast_py.ipynb\" target=\"_parent\"><img src=\"https://colab.research.google.com/assets/colab-badge.svg\" alt=\"Open In Colab\"/></a>"
      ]
    },
    {
      "cell_type": "code",
      "execution_count": 2,
      "metadata": {
        "colab": {
          "base_uri": "https://localhost:8080/"
        },
        "id": "Ezb_gR2D_Pyu",
        "outputId": "206328f9-b27d-4fd0-ed2b-93ee4ee81d87"
      },
      "outputs": [
        {
          "output_type": "stream",
          "name": "stdout",
          "text": [
            "Enter city name: Mumbai\n",
            "\n",
            "📍 Weather in Mumbai, IN:\n",
            "🌡️ Temperature: 31.99°C\n",
            "🌤️ Condition: Haze\n",
            "💧 Humidity: 74%\n",
            "🌬️ Wind Speed: 5.14 m/s\n"
          ]
        }
      ],
      "source": [
        "import requests\n",
        "\n",
        "def get_weather(city_name, api_key):\n",
        "    base_url = \"http://api.openweathermap.org/data/2.5/weather\"\n",
        "    params = {\n",
        "        'q': city_name,\n",
        "        'appid': api_key,\n",
        "        'units': 'metric'\n",
        "    }\n",
        "\n",
        "    response = requests.get(base_url, params=params)\n",
        "    data = response.json()\n",
        "\n",
        "    if response.status_code == 200:\n",
        "        print(f\"\\n📍 Weather in {data['name']}, {data['sys']['country']}:\")\n",
        "        print(f\"🌡️ Temperature: {data['main']['temp']}°C\")\n",
        "        print(f\"🌤️ Condition: {data['weather'][0]['description'].capitalize()}\")\n",
        "        print(f\"💧 Humidity: {data['main']['humidity']}%\")\n",
        "        print(f\"🌬️ Wind Speed: {data['wind']['speed']} m/s\")\n",
        "    else:\n",
        "        print(f\"❌ Error: {data.get('message', 'Unable to fetch weather')}\")\n",
        "\n",
        "if __name__ == \"__main__\":\n",
        "    API_KEY = \"2b3bd6842fd63dd698bae486984d002f\"\n",
        "    city = input(\"Enter city name: \")\n",
        "    get_weather(city, API_KEY)"
      ]
    },
    {
      "cell_type": "markdown",
      "source": [
        "import requests: This line imports the necessary library for making HTTP requests. def get_weather(city_name, api_key):: This defines a function called get_weather that takes the city name and your API key as input. base_url = \"http://api.openweathermap.org/data/2.5/weather\": This sets the base URL for the OpenWeatherMap weather API endpoint. params = {...}: This dictionary contains the parameters for the API request, including the city name, your API key, and units (set to metric for Celsius). response = requests.get(base_url, params=params): This line makes the actual GET request to the API with the specified URL and parameters. data = response.json(): This converts the JSON response from the API into a Python dictionary. if response.status_code == 200:: This checks if the API request was successful (status code 200). print(...): If the request is successful, it prints the weather information in a formatted way. else:: If the request is not successful, it prints an error message. if name == \"main\":: This ensures the code inside this block only runs when the script is executed directly. API_KEY = \"...\": This line sets the API key for OpenWeatherMap. Note: It's generally not recommended to hardcode API keys directly in your code. Consider using environment variables or Colab secrets for better security. city = input(\"Enter city name: \"): This prompts the user to enter a city name. get_weather(city, API_KEY): This calls the get_weather function with the entered city and API key to fetch and display the weather."
      ],
      "metadata": {
        "id": "uvCnHZwsARvg"
      }
    }
  ]
}