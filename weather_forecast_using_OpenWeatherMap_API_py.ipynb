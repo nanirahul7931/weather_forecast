{
  "nbformat": 4,
  "nbformat_minor": 0,
  "metadata": {
    "colab": {
      "provenance": [],
      "include_colab_link": true
    },
    "kernelspec": {
      "name": "python3",
      "display_name": "Python 3"
    },
    "language_info": {
      "name": "python"
    }
  },
  "cells": [
    {
      "cell_type": "markdown",
      "metadata": {
        "id": "view-in-github",
        "colab_type": "text"
      },
      "source": [
        "<a href=\"https://colab.research.google.com/github/nanirahul7931/weather_forecast/blob/main/weather_forecast_using_OpenWeatherMap_API_py.ipynb\" target=\"_parent\"><img src=\"https://colab.research.google.com/assets/colab-badge.svg\" alt=\"Open In Colab\"/></a>"
      ]
    },
    {
      "cell_type": "code",
      "execution_count": null,
      "metadata": {
        "colab": {
          "base_uri": "https://localhost:8080/"
        },
        "id": "CLhxVpYZzvzn",
        "outputId": "b3b5b3e0-1c9e-4cd1-e7ab-7b7141749a4d"
      },
      "outputs": [
        {
          "output_type": "stream",
          "name": "stdout",
          "text": [
            "Enter city name: London\n",
            "\n",
            "📍 Weather in London, GB:\n",
            "🌡️ Temperature: 14.56°C\n",
            "🌤️ Condition: Overcast clouds\n",
            "💧 Humidity: 87%\n",
            "🌬️ Wind Speed: 4.63 m/s\n"
          ]
        }
      ],
      "source": [
        "import requests\n",
        "\n",
        "def get_weather(city_name, api_key):\n",
        "    base_url = \"http://api.openweathermap.org/data/2.5/weather\"\n",
        "    params = {\n",
        "        'q': city_name,\n",
        "        'appid': api_key,\n",
        "        'units': 'metric'\n",
        "    }\n",
        "\n",
        "    response = requests.get(base_url, params=params)\n",
        "    data = response.json()\n",
        "\n",
        "    if response.status_code == 200:\n",
        "        print(f\"\\n📍 Weather in {data['name']}, {data['sys']['country']}:\")\n",
        "        print(f\"🌡️ Temperature: {data['main']['temp']}°C\")\n",
        "        print(f\"🌤️ Condition: {data['weather'][0]['description'].capitalize()}\")\n",
        "        print(f\"💧 Humidity: {data['main']['humidity']}%\")\n",
        "        print(f\"🌬️ Wind Speed: {data['wind']['speed']} m/s\")\n",
        "    else:\n",
        "        print(f\"❌ Error: {data.get('message', 'Unable to fetch weather')}\")\n",
        "\n",
        "if __name__ == \"__main__\":\n",
        "    API_KEY = \"2b3bd6842fd63dd698bae486984d002f\"\n",
        "    city = input(\"Enter city name: \")\n",
        "    get_weather(city, API_KEY)\n",
        "\n"
      ]
    },
    {
      "cell_type": "markdown",
      "source": [
        "🔄 How the Program Works – Step by Step:\n",
        "\t1.\tUser Input:\n",
        "\t•\tThe program begins by asking the user to input a city name.\n",
        "\t2.\tAPI URL and Parameters:\n",
        "\t•\tA base URL (http://api.openweathermap.org/data/2.5/weather) is defined.\n",
        "\t•\tA set of query parameters is created:\n",
        "\t•\tq: city name\n",
        "\t•\tappid: the API key to authenticate the request\n",
        "\t•\tunits: set to 'metric' to get temperature in Celsius\n",
        "\t3.\tSending HTTP Request:\n",
        "\t•\tThe program uses the requests.get() function to send a GET request to the OpenWeatherMap API with the specified parameters.\n",
        "\t4.\tReceiving and Parsing the Response:\n",
        "\t•\tThe server sends back a JSON response containing weather data.\n",
        "\t•\tThe response is converted to a Python dictionary using .json().\n",
        "\t5.\tDisplaying Weather Data:\n",
        "\t•\tIf the request is successful (status_code == 200), the program extracts and displays:\n",
        "\t•\tCity and country\n",
        "\t•\tTemperature (°C)\n",
        "\t•\tWeather condition (e.g., “Clear”, “Cloudy”)\n",
        "\t•\tHumidity (%)\n",
        "\t•\tWind speed (m/s)\n",
        "\t6.\tError Handling:\n",
        "\t•\tIf the API returns an error (e.g., wrong city name or invalid API key), an error message is displayed to the user.\n"
      ],
      "metadata": {
        "id": "alH3Hw7Zz5q2"
      }
    },
    {
      "cell_type": "markdown",
      "source": [
        "🛠️ Tools & Technologies Used: Python\n",
        "Programming language for the application\n",
        "Requests library\n",
        "To send and receive HTTP requests\n",
        "OpenWeatherMap API\n",
        "Source of real-time weather data\n",
        "PyCharm/IDE\n",
        "Development environment for writing and running code\n"
      ],
      "metadata": {
        "id": "4v0YxhK4qpTI"
      }
    }
  ]
}